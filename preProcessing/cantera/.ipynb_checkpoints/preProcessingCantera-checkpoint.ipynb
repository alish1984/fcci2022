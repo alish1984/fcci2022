{
 "cells": [
  {
   "cell_type": "markdown",
   "id": "ae214e3d-7ab7-4755-8f2e-2541b12568fd",
   "metadata": {},
   "source": [
    "# **Pre-processing with <img src=\"./cantera-logo.png\" style=\"height: 40px;\"/>**"
   ]
  },
  {
   "cell_type": "markdown",
   "id": "89909840-bf95-4c70-908d-5fdc72ad4981",
   "metadata": {},
   "source": [
    "# 0. Conversion of chemkin files"
   ]
  },
  {
   "cell_type": "markdown",
   "id": "c1bd7fe9-59e1-4831-a809-6215254ee407",
   "metadata": {},
   "source": [
    "To convert the mechanisms in chemkin format to the cantera format use:\n",
    "\n",
    "```sh\n",
    "ck2cti --input=<kinetics_file_chemkin_format> --thermo=<thermo_file_chemkin_format> --transport=<transport_file_chemkin_format> --output=<output_name> --permissive```\n",
    "\n",
    "Many existing CK format files cause errors in ck2cti when they are processed. Some of these errors may be avoided by specifying the --permissive option. This option allows certain recoverable parsing errors (for example, duplicate transport or thermodynamic data) to be ignored. Other errors may be caused by incorrect formatting of lines in one or more of the input files.\n",
    "\n",
    "This creates a \".cti\" format of the kinetics.\n",
    "\n",
    "Example:"
   ]
  },
  {
   "cell_type": "code",
   "execution_count": null,
   "id": "5d949447-d87f-4fda-aa25-981745c9e5d3",
   "metadata": {},
   "outputs": [],
   "source": [
    "!ls gri30"
   ]
  },
  {
   "cell_type": "code",
   "execution_count": null,
   "id": "3a64d0e5-df49-488d-906e-0218afbd90cd",
   "metadata": {},
   "outputs": [],
   "source": [
    "!ls gri30/chemkin"
   ]
  },
  {
   "cell_type": "code",
   "execution_count": null,
   "id": "6d0f82f9-67fe-4893-9091-12b0144d2e4d",
   "metadata": {},
   "outputs": [],
   "source": [
    "!ck2cti --input=gri30/chemkin/grimech30.dat --thermo=gri30/chemkin/thermo30.dat --transport=gri30/chemkin/transport.dat --output=gri30/gri30.cti --permissive"
   ]
  },
  {
   "cell_type": "markdown",
   "id": "426b7d07-7b5a-4707-9744-5b7340e757b3",
   "metadata": {},
   "source": [
    "---\n",
    "---"
   ]
  },
  {
   "cell_type": "markdown",
   "id": "8dda11ca-77b7-4054-ac1c-5ce49a997663",
   "metadata": {},
   "source": [
    "# 1. 0D calculations"
   ]
  },
  {
   "cell_type": "markdown",
   "id": "aec12729-edda-4bb3-aa25-d1d301779648",
   "metadata": {},
   "source": [
    "## 1.1 Equilibrium calculations"
   ]
  },
  {
   "cell_type": "code",
   "execution_count": null,
   "id": "8b0084a7-7cb5-44e6-ba68-7897a11b200e",
   "metadata": {},
   "outputs": [],
   "source": [
    "# load required packages/libraries in python \n",
    "import cantera as ct\n",
    "import numpy as np\n",
    "\n",
    "# define the cantera object and initialise the state of the mixture \n",
    "mix = ct.Solution('./gri30.cti')\n",
    "pressure =  ct.one_atm\n",
    "T_jet = 294\n",
    "\n",
    "mix.TP = T_jet, pressure"
   ]
  },
  {
   "cell_type": "markdown",
   "id": "8afac852-f2c7-434f-aa2e-566b709ef2f4",
   "metadata": {},
   "source": [
    "SandiaD main jet consists of 25$\\%$ $\\mathrm{CH_4}$ and 75$\\%$ air [https://tnfworkshop.org/data-archives/pilotedjet/ch4-air/]"
   ]
  },
  {
   "cell_type": "code",
   "execution_count": null,
   "id": "0affca9b-32b7-4b13-b87a-58e05d4c2516",
   "metadata": {},
   "outputs": [],
   "source": [
    "CH4 = 0.25\n",
    "O2 = 0.75/4.76\n",
    "N2 = 0.75/4.76*3.76\n",
    "\n",
    "mix.X = {'CH4':CH4, 'O2':O2, 'N2':N2}\n",
    "print(mix())"
   ]
  },
  {
   "cell_type": "markdown",
   "id": "bf5d8d06-9d41-4a5f-9f12-606395e79709",
   "metadata": {},
   "source": [
    "Set the reactor and perform equilibrium calculation"
   ]
  },
  {
   "cell_type": "code",
   "execution_count": null,
   "id": "f384e926-8167-41e7-894f-7fd317b014d7",
   "metadata": {},
   "outputs": [],
   "source": [
    "#mixture_jet_y = 'CH4:0.1561, O2: 0.1966, N2:0.6473'\n",
    "#mix.TPY = T_jet, pressure, mixture_jet_y\n",
    "mix.equilibrate('HP')"
   ]
  },
  {
   "cell_type": "markdown",
   "id": "4f2bfb06-7620-4cc7-b531-aeab5a19451d",
   "metadata": {},
   "source": [
    "Print the mixture in equlibrium"
   ]
  },
  {
   "cell_type": "code",
   "execution_count": null,
   "id": "439cba0d-8be9-4383-8953-418be65ba451",
   "metadata": {},
   "outputs": [],
   "source": [
    "print(mix())"
   ]
  },
  {
   "cell_type": "markdown",
   "id": "5881bc13-d154-44d0-99f6-615874bb68a7",
   "metadata": {},
   "source": [
    "Retrieve individual properties"
   ]
  },
  {
   "cell_type": "code",
   "execution_count": null,
   "id": "71186239-e39d-4a94-962d-ddd843e6d1a5",
   "metadata": {},
   "outputs": [],
   "source": [
    "mole_frac = mix.X\n",
    "mass_frac = mix.Y\n",
    "species_names = mix.species_names\n",
    "for i in range(np.size(species_names)):\n",
    "    print ('%20s  %10.4g   %10.4g'%(species_names[i], mole_frac[i], mass_frac[i]))"
   ]
  },
  {
   "cell_type": "markdown",
   "id": "10b9019a-0ff4-48ce-826a-a5d0682f684c",
   "metadata": {},
   "source": [
    "---"
   ]
  },
  {
   "cell_type": "markdown",
   "id": "cadb3fb2-3ec4-4b17-9cdf-b348668a0de4",
   "metadata": {},
   "source": [
    "Change the mixture and re-calculate the equilibrium "
   ]
  },
  {
   "cell_type": "code",
   "execution_count": null,
   "id": "5ed6ecc5-a0d3-4826-a329-de32ead81381",
   "metadata": {},
   "outputs": [],
   "source": [
    "#mixture_pilot_y = 'CO:4.07e-3, CO2: 0.1098, H2O: 0.0942, O2: 0.054, N2: 0.7342, H: 2.48e-5, H2: 1.29e-4,  O: 7.47e-4,  OH: 0.0028'\n",
    "#T_pilot = 1880\n",
    "\n",
    "#mix.TPY = T_pilot, pressure, mixture_pilot_y\n"
   ]
  },
  {
   "cell_type": "code",
   "execution_count": null,
   "id": "fcc13c7a-67a5-43e3-b64c-8c3007fc49f2",
   "metadata": {},
   "outputs": [],
   "source": [
    "#print(np.sum(mix.Y))"
   ]
  },
  {
   "cell_type": "code",
   "execution_count": null,
   "id": "b1f213a4-b275-43f8-8536-31a5a297bff3",
   "metadata": {},
   "outputs": [],
   "source": [
    "#mix.equilibrate('HP')\n",
    "#print(mix())"
   ]
  },
  {
   "cell_type": "code",
   "execution_count": null,
   "id": "678ec426-318c-4542-b331-9d777c0562fd",
   "metadata": {
    "tags": []
   },
   "outputs": [],
   "source": [
    "#air_y = 'O2: 0.23, N2: 0.77'\n",
    "#T_air = 300"
   ]
  },
  {
   "cell_type": "code",
   "execution_count": null,
   "id": "a4a5e0a5-ba25-4169-ae3d-e55392005846",
   "metadata": {},
   "outputs": [],
   "source": []
  },
  {
   "cell_type": "code",
   "execution_count": null,
   "id": "bbd331ab-c2b1-49f4-94bc-bad6b9f152df",
   "metadata": {
    "tags": []
   },
   "outputs": [],
   "source": []
  },
  {
   "cell_type": "code",
   "execution_count": null,
   "id": "69af93bb-6190-4af3-8490-ecb84e8b4fd2",
   "metadata": {
    "tags": []
   },
   "outputs": [],
   "source": []
  },
  {
   "cell_type": "markdown",
   "id": "1142095a-7449-41ee-a28e-1d5aa7a83e28",
   "metadata": {},
   "source": [
    "---\n",
    "---"
   ]
  },
  {
   "cell_type": "markdown",
   "id": "cf3e7092-77f9-4ace-8eb7-2952f62dc3f4",
   "metadata": {},
   "source": [
    "# 1.2. Equivalence ratio ($\\Phi$)"
   ]
  },
  {
   "cell_type": "markdown",
   "id": "593fa2fb-9331-4eb7-91c8-f1146e840073",
   "metadata": {},
   "source": [
    "Define fuel and oxidizer compositions and create the mixture"
   ]
  },
  {
   "cell_type": "code",
   "execution_count": null,
   "id": "6e0dbcb4-3a79-4b0e-9092-c9c21bf7f7a6",
   "metadata": {},
   "outputs": [],
   "source": [
    "temperature = 300 \n",
    "pressure = ct.one_atm\n",
    "\n",
    "fuel_mole = \"CH4: 1\"\n",
    "oxidizer_mole = \"O2: 1 ,N2: 3.76\"\n",
    "\n",
    "mix = ct.Solution('./gri30.cti')"
   ]
  },
  {
   "cell_type": "markdown",
   "id": "a92ff83a-0717-4345-bd32-3f9925932a67",
   "metadata": {},
   "source": [
    "Set the reactor temperature and pressure (mixture mass fractions will be set by the equivalence ration)"
   ]
  },
  {
   "cell_type": "code",
   "execution_count": null,
   "id": "84773f0e-07ef-4029-9345-9089fbc64760",
   "metadata": {},
   "outputs": [],
   "source": [
    "mix.TP = temperature, pressure"
   ]
  },
  {
   "cell_type": "markdown",
   "id": "cacbeeb2-fbb4-4e6f-98f4-996e186be414",
   "metadata": {},
   "source": [
    "Set the mixture composition according to the stoichiometric mixture ($\\Phi$ = 1)"
   ]
  },
  {
   "cell_type": "code",
   "execution_count": null,
   "id": "3a7b647d-7939-4f1f-b708-86e6561454fa",
   "metadata": {},
   "outputs": [],
   "source": [
    "mix.set_equivalence_ratio(1, fuel_mole, oxidizer_mole)\n",
    "print(mix())"
   ]
  },
  {
   "cell_type": "markdown",
   "id": "ae0f58de-e301-47c0-a1fb-b91be95aac2c",
   "metadata": {},
   "source": [
    "Set another mixture $\\Phi=0.77$"
   ]
  },
  {
   "cell_type": "code",
   "execution_count": null,
   "id": "fa339270-f5cb-456d-82ba-07df37c048db",
   "metadata": {},
   "outputs": [],
   "source": [
    "mix.set_equivalence_ratio(0.77, fuel_mole, oxidizer_mole)\n",
    "print(mix())"
   ]
  },
  {
   "cell_type": "code",
   "execution_count": null,
   "id": "846edf84-3a7a-468e-9baa-500354dd0914",
   "metadata": {},
   "outputs": [],
   "source": []
  },
  {
   "cell_type": "markdown",
   "id": "c2a250ca-745f-4077-a868-31facef5ff8e",
   "metadata": {},
   "source": [
    "Equilibriate this mixture "
   ]
  },
  {
   "cell_type": "code",
   "execution_count": null,
   "id": "9a51faa0-27c6-40f1-8a44-3058c6a807ed",
   "metadata": {},
   "outputs": [],
   "source": [
    "mix.equilibrate('HP')\n",
    "print(mix())"
   ]
  },
  {
   "cell_type": "markdown",
   "id": "a8ec5ea1-8a10-45bf-933a-a6fe18092ce4",
   "metadata": {},
   "source": [
    "---\n",
    "---"
   ]
  },
  {
   "cell_type": "markdown",
   "id": "9b6d61ce-ede9-4340-9163-08ed957ea904",
   "metadata": {},
   "source": [
    "# 1.3. Stoichiometric mixture fraction"
   ]
  },
  {
   "cell_type": "markdown",
   "id": "4042f452-ee51-4e6a-9900-2b561df54856",
   "metadata": {},
   "source": [
    "Bilger mixture fraction is defined as:\n",
    "\\begin{equation}\n",
    "    Z_{Bilger} = \\frac{\\beta-\\beta_{ox}}{\\beta_{fuel}-\\beta_{ox}}\n",
    "\\end{equation}\n",
    "with \n",
    "\\begin{equation}\n",
    "    \\beta = 2\\frac{Y_C}{W_C}+ 2\\frac{Y_S}{W_S} + 0.5\\frac{Y_H}{W_H} - \\frac{Y_O}{W_O}\n",
    "\\end{equation}\n",
    "where $Y_e$ is the elemental mass fraction of element $e$ and $W_e$ its atomic weight. The subscribt $ox$ denotes the oxidiser composition,  $fuel$  the fuel composition and $\\beta$ is the elemental mass fractions in the mixture. \n",
    "\n",
    "For complex fuels/oxidisers $\\beta$ is calculated by:\n",
    "\n",
    "\\begin{equation}\n",
    "    \\beta = 2\\sum_k \\frac{a_{C,k} Y_k}{W_k}+ 2 \\sum_k \\frac{a_{S,k} Y_k}{W_k} + 0.5 \\sum_k \\frac{a_{H,k} Y_k}{W_k} - \\sum_k \\frac{a_{O,k} Y_k}{W_k}\n",
    "\\end{equation}"
   ]
  },
  {
   "cell_type": "markdown",
   "id": "cfbf6ac2-be31-419d-8523-aa058327a925",
   "metadata": {},
   "source": [
    "---"
   ]
  },
  {
   "cell_type": "markdown",
   "id": "521b7530-a93c-4b4b-bc3d-a3ebb44f1c51",
   "metadata": {},
   "source": [
    "Let's try to calculate $Z_{st}$ (stoichiometric mixture fraction) for a simple $\\mathrm{CH_4}$-air flame"
   ]
  },
  {
   "cell_type": "code",
   "execution_count": null,
   "id": "54154e5b-13dd-43c8-8ed5-cef82e1c7c08",
   "metadata": {},
   "outputs": [],
   "source": [
    "temperature = 300 \n",
    "pressure = ct.one_atm\n",
    "\n",
    "fuel_mole = \"CH4: 1\"\n",
    "oxidizer_mole = \"O2: 1 ,N2: 3.76\"\n",
    "\n",
    "mix = ct.Solution('./gri30.cti')\n",
    "mixture_jet = ct.Solution('./gri30.cti')\n",
    "mixture_air = ct.Solution('./gri30.cti')\n",
    "mixture_jet.TPY = T_jet, pressure, 'CH4: 1'\n",
    "mixture_air.TPY = T_jet, pressure, 'O2: 0.23, N2: 0.77'\n",
    "\n",
    "\n",
    "mix.TP = T_jet, pressure\n",
    "\n",
    "mix.set_equivalence_ratio(1, fuel_mole, oxidizer_mole, basis='mole')\n",
    "\n",
    "print('------- Zst -------')\n",
    "print(mix.mixture_fraction(fuel=mixture_jet.Y,oxidizer=mixture_air.Y,basis='mass',element='Bilger'))\n",
    "print('-------     -------')"
   ]
  },
  {
   "cell_type": "markdown",
   "id": "7a6432bd-2f35-42d5-b709-c7d202bbfcf5",
   "metadata": {},
   "source": [
    "---"
   ]
  },
  {
   "cell_type": "markdown",
   "id": "f738c515-7343-4402-9c3a-43aecddea8f6",
   "metadata": {},
   "source": [
    "Let's try to calculate $Z_{st}$ (stoichiometric mixture fraction) for a more complicated fuel"
   ]
  },
  {
   "cell_type": "code",
   "execution_count": null,
   "id": "de859f76-bb87-4558-967e-c4d7a16616fa",
   "metadata": {},
   "outputs": [],
   "source": [
    "temperature = 300 \n",
    "pressure = ct.one_atm\n",
    "fuel_mole = \"CH4: 30\"\n",
    "oxidizer_mole = \"O2: 1 ,N2: 3.76\"\n",
    "mix = ct.Solution('./gri30.cti')\n",
    "mixture_jet = ct.Solution('./gri30.cti')\n",
    "mixture_air = ct.Solution('./gri30.cti')\n",
    "mixture_jet.TPY = T_jet, pressure, 'CH4:0.1561, O2: 0.1966, N2:0.6473'\n",
    "mixture_air.TPY = T_jet, pressure, 'O2: 0.23, N2: 0.77'\n",
    "\n",
    "\n",
    "mix.TP = T_jet, pressure\n",
    "\n",
    "mix.set_equivalence_ratio(1, fuel = fuel_mole, oxidizer= oxidizer_mole, basis='mole')\n",
    "\n",
    "print('------- Zst -------')\n",
    "print(mix.mixture_fraction(fuel=mixture_jet.Y,oxidizer=mixture_air.Y,basis='mass',element='Bilger'))\n",
    "print('-------     -------')\n"
   ]
  },
  {
   "cell_type": "markdown",
   "id": "2f791d52-3284-44ec-bd01-c484ebc128db",
   "metadata": {},
   "source": [
    "---"
   ]
  },
  {
   "cell_type": "markdown",
   "id": "d22ad9d5-e260-408f-9de6-8905efb37f66",
   "metadata": {},
   "source": [
    "Let's calculate the mixture fraction at boundary conditions "
   ]
  },
  {
   "cell_type": "code",
   "execution_count": null,
   "id": "995d70a7-403e-4e4d-8c1d-6e1450da8123",
   "metadata": {},
   "outputs": [],
   "source": [
    "temperature = 300 \n",
    "pressure = ct.one_atm\n",
    "fuel_mole = \"CH4: 1\"\n",
    "oxidizer_mole = \"O2: 1 ,N2: 3.76\"\n",
    "mixture_jet = ct.Solution('./gri30.cti')\n",
    "mixture_air = ct.Solution('./gri30.cti')\n",
    "mixture_jet.TPY = T_jet, pressure, 'CH4:0.1561, O2: 0.1966, N2:0.6473'\n",
    "mixture_air.TPY = T_jet, pressure, 'O2: 0.23, N2: 0.77'\n",
    "mix = ct.Solution('./gri30.cti')\n",
    "\n",
    "mix.TPY = T_jet, pressure,  \"CH4: 1\" # fuel BC\n",
    "\n",
    "mix.mixture_fraction(fuel=mixture_jet.Y,oxidizer=mixture_air.Y,basis='mass',element='Bilger')"
   ]
  },
  {
   "cell_type": "code",
   "execution_count": null,
   "id": "0e337d6d-63e5-43fa-832e-93492016ce91",
   "metadata": {},
   "outputs": [],
   "source": [
    "mix.TPY = T_jet, pressure,  'O2: 0.23, N2: 0.77' # air BC\n",
    "\n",
    "mix.mixture_fraction(fuel=mixture_jet.Y,oxidizer=mixture_air.Y,basis='mass',element='Bilger')"
   ]
  },
  {
   "cell_type": "code",
   "execution_count": null,
   "id": "637bdc13-c14c-41b8-baa0-8bdcdea7b047",
   "metadata": {},
   "outputs": [],
   "source": [
    "mix.TPY = T_jet, pressure,  'CO:4.07e-3, CO2: 0.1098, H2O: 0.0942, O2: 0.054, N2: 0.7342, H: 2.48e-5, H2: 1.29e-4,  O: 7.47e-4,  OH: 0.0028' # pilot BC\n",
    "\n",
    "mix.mixture_fraction(fuel=mixture_jet.Y,oxidizer=mixture_air.Y,basis='mass',element='Bilger')"
   ]
  },
  {
   "cell_type": "markdown",
   "id": "729fd7ed-6515-4f62-8e4a-da3df3c5ff03",
   "metadata": {},
   "source": [
    "---"
   ]
  },
  {
   "cell_type": "markdown",
   "id": "8b463d8a-8e0d-4c93-b8c3-21dc6013475e",
   "metadata": {},
   "source": [
    "Let's change the reference i.e. considering $\\mathrm{CH_4}$-air flamelets"
   ]
  },
  {
   "cell_type": "code",
   "execution_count": null,
   "id": "121db1c6-9911-48cc-b7be-b61eb30e285a",
   "metadata": {},
   "outputs": [],
   "source": [
    "temperature = 300 \n",
    "pressure = ct.one_atm\n",
    "fuel_mole = \"CH4: 1\"\n",
    "oxidizer_mole = \"O2: 1 ,N2: 3.76\"\n",
    "mixture_jet = ct.Solution('./gri30.cti')\n",
    "mixture_air = ct.Solution('./gri30.cti')\n",
    "mixture_jet.TPY = T_jet, pressure, 'CH4:1'\n",
    "mixture_air.TPY = T_jet, pressure, 'O2: 0.23, N2: 0.77'\n",
    "mix = ct.Solution('./gri30.cti')"
   ]
  },
  {
   "cell_type": "code",
   "execution_count": null,
   "id": "9cb67d37-c6b3-4712-b19e-6bec59134e21",
   "metadata": {},
   "outputs": [],
   "source": [
    "# main jet stream \n",
    "mix.TPY = T_jet, pressure,  'CH4:0.1561, O2: 0.1966, N2:0.6473' # fuel BC\n",
    "\n",
    "mix.mixture_fraction(fuel=mixture_jet.Y,oxidizer=mixture_air.Y,basis='mass',element='Bilger')"
   ]
  },
  {
   "cell_type": "code",
   "execution_count": null,
   "id": "836a8f16-a624-444b-a6fd-04946be40f80",
   "metadata": {},
   "outputs": [],
   "source": [
    "# air stream \n",
    "mix.TPY = T_jet, pressure,  'O2: 0.23, N2: 0.77' # air BC\n",
    "\n",
    "mix.mixture_fraction(fuel=mixture_jet.Y,oxidizer=mixture_air.Y,basis='mass',element='Bilger')"
   ]
  },
  {
   "cell_type": "code",
   "execution_count": null,
   "id": "fa3f63d4-4658-4a3f-81d7-c74fcb21a55f",
   "metadata": {},
   "outputs": [],
   "source": [
    "# pilot stream \n",
    "mix.TPY = T_jet, pressure,  'CO:4.07e-3, CO2: 0.1098, H2O: 0.0942, O2: 0.054, N2: 0.7342, H: 2.48e-5, H2: 1.29e-4,  O: 7.47e-4,  OH: 0.0028' # pilot BC\n",
    "\n",
    "mix.mixture_fraction(fuel=mixture_jet.Y,oxidizer=mixture_air.Y,basis='mass',element='Bilger')"
   ]
  },
  {
   "cell_type": "code",
   "execution_count": null,
   "id": "aa05799f-adbd-421b-a259-ebb1812a5caa",
   "metadata": {},
   "outputs": [],
   "source": [
    "mix.set_equivalence_ratio(1, fuel_mole, oxidizer_mole)\n",
    "\n",
    "print('------- Zst -------')\n",
    "print(mix.mixture_fraction(fuel=mixture_jet.Y,oxidizer=mixture_air.Y,basis='mass',element='Bilger'))\n",
    "print('-------     -------')"
   ]
  },
  {
   "cell_type": "code",
   "execution_count": null,
   "id": "fefe4fe1-2d3b-4bb0-80ed-af7863609fdd",
   "metadata": {},
   "outputs": [],
   "source": [
    "# initial fields \n",
    "mix.TPY = T_jet, pressure,  'CH4: 0.1561, O2: 0.1966, N2: 0.6473' \n",
    "\n",
    "mix.mixture_fraction(fuel=mixture_jet.Y,oxidizer=mixture_air.Y,basis='mass',element='Bilger')"
   ]
  },
  {
   "cell_type": "markdown",
   "id": "5f10c013-5481-4f09-be38-3017ff1b5144",
   "metadata": {},
   "source": [
    "---\n",
    "---"
   ]
  },
  {
   "cell_type": "markdown",
   "id": "39474096-38e9-4af8-a233-957d0a625ec9",
   "metadata": {},
   "source": [
    "# 1.4. Adiabatic flame temperature"
   ]
  },
  {
   "cell_type": "code",
   "execution_count": null,
   "id": "9e4cba1c-474e-4c27-99b3-a4b3d1b6f884",
   "metadata": {},
   "outputs": [],
   "source": [
    "# equivalence ratio range\n",
    "min_phi = 0.4\n",
    "max_phi = 4\n",
    "phi_number = 40 \n",
    "\n",
    "phi_all = np.linspace(min_phi, max_phi, num=phi_number)\n",
    "\n",
    "temperature = 300 \n",
    "pressure = ct.one_atm\n",
    "\n",
    "fuel_mole = \"CH4: 1\"\n",
    "oxidizer_mole = \"O2: 1 ,N2: 3.76\"\n",
    "\n",
    "mix = ct.Solution('./gri30.cti')\n",
    "\n",
    "\n",
    "\n",
    "\n",
    "\n",
    "# create some arrays to hold the data\n",
    "phi = np.zeros(phi_number)\n",
    "T_ad = np.zeros(phi_number)\n",
    "X_eq = np.zeros((mix.n_species,phi_number))\n",
    "\n",
    "\n",
    "for i in range(phi_number):\n",
    "    # set the gas state\n",
    "    mix.TP = temperature, pressure\n",
    "    mix.set_equivalence_ratio(phi_all[i], fuel_mole, oxidizer_mole)\n",
    "\n",
    "    # equilibrate the mixture adiabatically at constant P\n",
    "    mix.equilibrate('HP')\n",
    "\n",
    "    T_ad[i] = mix.T\n",
    "    X_eq[:,i] = mix.X\n",
    "    print ('phi = %10.4f, adiabatic T = %10.4f' % (phi_all[i], T_ad[i]))\n",
    "\n",
    "\n"
   ]
  },
  {
   "cell_type": "markdown",
   "id": "db8f1268-8167-4309-92b6-610042b44844",
   "metadata": {},
   "source": [
    "---\n",
    "Plot the results\n"
   ]
  },
  {
   "cell_type": "code",
   "execution_count": null,
   "id": "89aa939e-7944-4aec-be9a-25dde0fec938",
   "metadata": {},
   "outputs": [],
   "source": [
    "import matplotlib.pyplot as plt\n",
    "import sys\n",
    "import csv\n",
    "\n",
    "plt.rcParams['figure.figsize'] = [20/2.54, 16/2.54]\n",
    "font = {'family' : 'sans-serif',\n",
    "        #'weight' : 'bold',\n",
    "        'size'   : 16}\n",
    "\n",
    "plt.rc('font', **font)\n",
    "\n",
    "\n",
    "fig = plt.figure()\n",
    "plt.plot(phi_all, T_ad)\n",
    "plt.xlabel('Equivalence ratio',fontsize= 20)\n",
    "plt.ylabel('Adiabatic flame temperature [K]',fontsize= 20)\n",
    "plt.grid()\n",
    "fig.tight_layout()\n",
    "plt.savefig('./figs/phi_all_T_ad.png',format = 'png')\n",
    "plt.show()\n"
   ]
  },
  {
   "cell_type": "code",
   "execution_count": null,
   "id": "9d7d2f34-7313-400d-a004-0e7918510f45",
   "metadata": {},
   "outputs": [],
   "source": [
    "X_eq.shape"
   ]
  },
  {
   "cell_type": "code",
   "execution_count": null,
   "id": "dd26bc61-db4c-4231-abe6-efd82726f6b8",
   "metadata": {},
   "outputs": [],
   "source": [
    "X_eq[:,0].shape"
   ]
  },
  {
   "cell_type": "code",
   "execution_count": null,
   "id": "c0f5191e-3db9-40aa-8822-90a0aa6403d5",
   "metadata": {},
   "outputs": [],
   "source": [
    "# write output CSV file for importing into Excel\n",
    "csv_file = './ch4_adiabatic.csv'\n",
    "with open(csv_file, 'w') as output_file:\n",
    "    writer = csv.writer(output_file)\n",
    "    writer.writerow\n",
    "    writer.writerow(['phi','T'] + mix.species_names)\n",
    "    for i in range(phi_number):\n",
    "        writer.writerow([phi_all[i], T_ad[i]] + list(X_eq[:,i]))"
   ]
  },
  {
   "cell_type": "code",
   "execution_count": null,
   "id": "e866b03b-0682-48eb-a055-01532eda2bf8",
   "metadata": {},
   "outputs": [],
   "source": [
    "\n"
   ]
  },
  {
   "cell_type": "markdown",
   "id": "41a8cd15-159e-445e-b53d-ded279ecdf9f",
   "metadata": {},
   "source": [
    "---\n",
    "---"
   ]
  },
  {
   "cell_type": "markdown",
   "id": "21d318c3-b910-4f0e-8b3e-ab46e741da1e",
   "metadata": {},
   "source": [
    "# 2. 1D calculations"
   ]
  },
  {
   "cell_type": "markdown",
   "id": "02604926-a5ea-4ac0-910c-a2e826b80b13",
   "metadata": {},
   "source": [
    "## 2.1. introduction \n",
    "\n",
    "Three types of simulations are available, namely, \n",
    "\n",
    "* premixed flat flame, \n",
    "* counter-flow diffusion flame, \n",
    "* burner stabilized flat flame \n",
    "\n",
    "Cantera uses a modified Newton algorithm, so its convergence is sensitive to the initial conditions and settings of the solver. \n",
    "In most cases it is best to start with a ”standard” computation (atmospheric conditions, stoichiometry) and to iterate from there.\n",
    "\n",
    "### 2.1.1. General structure of a 1D simulation with Cantera\n",
    "\n",
    "- Load required packages \n",
    "    - import cantera as ct\n",
    "    - import numpy as np\n",
    "    - etc\n",
    "    \n",
    "- Define gas object (load kinetics) and its state \n",
    "\n",
    "    - gas = ct.Solution('h2_konnov_2008.cti')\n",
    "    - T0,P0 = 300, 101325\n",
    "    - gas.TP = T0, P0\n",
    "    - gas.set_equivalence_ratio(1.0, 'H2', {'O2':1.0, 'N2':3.76})\n",
    "    \n",
    "- Create and discritise a 1D domain (not recommended) or only define the width and let cantera do the discritisation it (highly recommended)!\n",
    "\n",
    "    - width = 0.02 # m \n",
    "    - initial_grid = np.linspace(0, width , 300)\n",
    "\n",
    "- Define the solver object, its properties and initialise it (inlet/BC ...)\n",
    "    - Define the solver object\n",
    "        - f = ct.FreeFlame(gas, width=width)\n",
    "        - f = ct.FreeFlame(gas, initial_grid)\n",
    "        - f = ct.CounterflowDiffusionFlame(gas, initial_grid)\n",
    "        - f = ct.BurnerFlame(gas, initial_grid)\n",
    "    - Define the transport models: \n",
    "        - 'Mix', \n",
    "        - 'Multi', \n",
    "        - 'UnityLewis'\n",
    "    - set/un-set energy equation :  \n",
    "        - f.energy_enabled = False\n",
    "    - Define the solver properties: **usually the default settings works and no need to modify such settings but in sever cases you have below options**:\n",
    "        - _Define tolerances for the solver_: \n",
    "            - tol_ss = [1.0e-5, 1.0e-9] #[rtol atol] for steady-state problem\n",
    "            - tol_ts = [1.0e-5, 1.0e-9] # [rtol atol] for time stepping\n",
    "            - f.flame.set_steady_tolerances(default=tol_ss)\n",
    "            - f.flame.set_transient_tolerances(default=tol_ts)\n",
    "        - _Refinement criteria_:\n",
    "            - f.set_refine_criteria(ratio=3, slope=0.1, curve=0.1, prune = 0.1)\n",
    "                - ratio : additional points will be added if the ratio of the spacing on either side of a grid point exceeds this value\n",
    "                - slope : maximum difference in value between two adjacent points, scaled by the maximum difference in the profile (0.0 < slope < 1.0). Adds points in regions of high slope.\n",
    "                - curve : maximum difference in slope between two adjacent intervals, scaled by the maximum difference in the profile (0.0 < curve < 1.0). Adds points in regions of high curvature.\n",
    "                - prune : if the slope or curve criteria are satisfied to the level of ‘prune’, the grid point is assumed not to be needed and is removed. Set prune significantly smaller than ‘slope’ and ‘curve’. Set to zero to disable pruning the grid.\n",
    "            - Strict settings can be set by decreasing these values:\n",
    "                - f.set_refine_criteria(ratio=2, slope=0.05, curve=0.05, prune = 0.01)\n",
    "        - _Set time steps whenever Newton convergence fails_:\n",
    "            - f.set_time_step(5.e-06, [10, 20, 80]) #s\n",
    "        - _Set log level for outputs_:\n",
    "            - Zero suppresses all output, and 5 produces very verbose output.\n",
    "        - _For more informations see: https://cantera.org/documentation/dev/sphinx/html/cython/onedim.html#freeflame_\n",
    "\n",
    "- Save/restore your solution\n",
    "    - Save the solution  \n",
    "        - f.save('yourfile.xml','name_of_solution', 'description_of_solution')\n",
    "        - f.save('ch4_adiabatic.xml','energy', 'solution with the energy equation enabled')\n",
    "    - Restore the solution \n",
    "        - gas.restore(’ch4_adiabatic.xml’, ’energy’)\n",
    "    - Write the velocity, temperature, density, and mole fractions to a CSV file: \n",
    "        - f.write_csv(’yourfile.csv’, species = ’X’, quiet=False)\n",
    "        - This will write e.g., for flat-flame simulation, the velocity, temperature, density and mole or mass fractions, respectively, to a CSV file; depending on whether species = ’X’ or ’Y’ is specified, respectively. \n",
    "- specify a uniform grid, with a few points"
   ]
  },
  {
   "cell_type": "markdown",
   "id": "d3e24750-b2d2-4014-bb15-d827f5d55999",
   "metadata": {},
   "source": [
    "# 2.2. Premixed flat flame simulations"
   ]
  },
  {
   "cell_type": "code",
   "execution_count": null,
   "id": "263b27da-8abd-4f27-9769-af6d457e4bf7",
   "metadata": {},
   "outputs": [],
   "source": [
    "# load required packages \n",
    "import cantera as ct\n",
    "import numpy as np\n",
    "import matplotlib.pyplot as plt\n",
    "\n",
    "# define gas object (load kinetics) and its state \n",
    "T0,P0 = 300, 101325\n",
    "gas = ct.Solution('h2_konnov_2008.cti')\n",
    "gas.TP = T0, P0\n",
    "gas.set_equivalence_ratio(1.0, fuel = 'H2', oxidizer = {'O2':1.0, 'N2':3.76}, basis = 'mole')\n",
    "\n",
    "# define the solver object, its properties and initialise it (inlet/BC ...)\n",
    "width = 0.02 # m \n",
    "f = ct.FreeFlame(gas, width=width)\n"
   ]
  },
  {
   "cell_type": "code",
   "execution_count": null,
   "id": "a1319390-ffc8-4de8-b4b2-e554fb76a528",
   "metadata": {},
   "outputs": [],
   "source": [
    "# set/change the transport model \n",
    "f.transport_model"
   ]
  },
  {
   "cell_type": "code",
   "execution_count": null,
   "id": "a25c4aef-ccb3-42da-abcf-f394fd2f0dfb",
   "metadata": {},
   "outputs": [],
   "source": [
    "f.transport_model= 'Multi'\n",
    "f.transport_model"
   ]
  },
  {
   "cell_type": "code",
   "execution_count": null,
   "id": "160a63f0-b471-4e0f-8fe4-bd0fe854524a",
   "metadata": {},
   "outputs": [],
   "source": [
    "f.transport_model= 'UnityLewis'\n",
    "f.transport_model"
   ]
  },
  {
   "cell_type": "code",
   "execution_count": null,
   "id": "099bc88f-bd51-4ee5-b300-b5f6a706467d",
   "metadata": {},
   "outputs": [],
   "source": [
    "f.transport_model= 'Mix'\n",
    "f.transport_model"
   ]
  },
  {
   "cell_type": "code",
   "execution_count": null,
   "id": "42fc1f2b-30d0-4fb7-b4c3-08760838cdc3",
   "metadata": {},
   "outputs": [],
   "source": [
    "# set the log level and solve \n",
    "log_level = 1\n",
    "f.solve(loglevel=log_level, auto=True)"
   ]
  },
  {
   "cell_type": "code",
   "execution_count": null,
   "id": "728fa69a-2337-4d71-ae29-a9bc8b209680",
   "metadata": {},
   "outputs": [],
   "source": [
    "# print the flame speed (it is the speed at the inlet i.e. grid 0 \n",
    "print('\\nflamespeed = {:7f} m/s\\n'.format(f.velocity[0]))"
   ]
  },
  {
   "cell_type": "code",
   "execution_count": null,
   "id": "f2256b31-c1a7-49de-a1e6-30e6d7e4f6c8",
   "metadata": {},
   "outputs": [],
   "source": [
    "f.set_refine_criteria(ratio=2, slope=0.05, curve=0.05, prune = 0.01)\n",
    "log_level = 0\n",
    "f.solve(loglevel=log_level, auto=True)\n",
    "print('\\nflamespeed = {:7f} m/s\\n'.format(f.velocity[0]))"
   ]
  },
  {
   "cell_type": "code",
   "execution_count": null,
   "id": "d15a4fdc-849d-4e39-8cfb-45489ac69aa7",
   "metadata": {},
   "outputs": [],
   "source": [
    "# write the solution to csv \n",
    "f.write_csv('h2_flame_speed_phi_1.csv', quiet=False)\n",
    "# store the solution for later restart\n",
    "f.save('h2_flame_speed_phi_1.xml','h2_flame_speed_phi_1', 'H2-air stoichiometric mixture flame speed at t = 300 K')"
   ]
  },
  {
   "cell_type": "code",
   "execution_count": null,
   "id": "2e5adce7-5fba-48e3-9081-0eca313f3ee0",
   "metadata": {},
   "outputs": [],
   "source": [
    "np.savetxt('test__GTYHRR.csv', [f.grid,f.T,f.Y[0],f.Y[1],f.heat_release_rate], delimiter=',', fmt='%g')"
   ]
  },
  {
   "cell_type": "code",
   "execution_count": null,
   "id": "546566da-4bd4-46f1-bc96-fb5c9290029e",
   "metadata": {},
   "outputs": [],
   "source": [
    "#Plot the velocity, temperature, \n",
    "x_f = f.grid\n",
    "T_f = f.T\n",
    "u_f = f.velocity\n",
    "\n",
    "# plot temperature\n",
    "fig = plt.figure()\n",
    "plt.plot(x_f, T_f)\n",
    "plt.xlabel('Position [m]', fontsize=15)\n",
    "plt.ylabel('Adiabatic flame temperature [K]')\n",
    "plt.grid()\n",
    "fig.tight_layout()\n",
    "plt.savefig('./figs/h2_flame_speed_phi_1_x_T.png',format = 'png')\n",
    "plt.show()\n",
    "\n",
    "# plot velocity\n",
    "fig = plt.figure()\n",
    "plt.plot(x_f, u_f)\n",
    "plt.xlabel('Position [m]', fontsize=15)\n",
    "plt.ylabel('velocity [m/s]')\n",
    "plt.grid()\n",
    "fig.tight_layout()\n",
    "plt.savefig('./figs/h2_flame_speed_phi_1_x_u.png',format = 'png')\n",
    "plt.show()"
   ]
  },
  {
   "cell_type": "code",
   "execution_count": null,
   "id": "b0157e73-9b09-4c21-82a1-9483bb4112d7",
   "metadata": {},
   "outputs": [],
   "source": [
    "# get species indices\n",
    "for i, specie in enumerate(gas.species()):\n",
    "    print(str(i) + '. ' + str(specie))"
   ]
  },
  {
   "cell_type": "code",
   "execution_count": null,
   "id": "56220f9b-1ad4-4844-8ed4-e9f4284e4385",
   "metadata": {},
   "outputs": [],
   "source": [
    "# Extract concentration data\n",
    "X_H2 = f.X[1]\n",
    "X_O2 = f.X[3]\n",
    "X_H2O = f.X[4]\n",
    "X_OH = f.X[5]\n",
    "\n",
    "plt.figure()\n",
    "\n",
    "plt.plot(f.grid*100, X_H2, '-o', label=r'$H_{2}$')\n",
    "plt.plot(f.grid*100, X_O2, '-s', label=r'$O_{2}$')\n",
    "plt.plot(f.grid*100, X_H2O, '-<', label=r'$H_{2}O$')\n",
    "plt.plot(f.grid*100, X_OH, '-<', label=r'$OH$')\n",
    "\n",
    "plt.legend(loc=2)\n",
    "plt.xlabel('Distance (cm)')\n",
    "plt.ylabel('MoleFractions');\n"
   ]
  },
  {
   "cell_type": "markdown",
   "id": "3728f4c0-9096-4990-a079-86ed14503aca",
   "metadata": {},
   "source": [
    "# 2.3. counter-flow diffusion flame\n",
    "\n",
    "The flame components will be:\n",
    "\n",
    "- a gaseous composition \n",
    "    - gas = ct.Solution(reaction_mechanism)....\n",
    "- a set of equations to solve \n",
    "    - f = ct.CounterflowDiffusionFlame(gas, width=width)\n",
    "- two inlets conditions \n",
    "    - f.fuel_inlet, \n",
    "    - f.oxidizer_inlet\n",
    "- an initial profile \n",
    "    - set_initial_guess(data=None, group=None)\n",
    "    - set the initial guess for the solution. By default, the initial guess is generated by assuming infinitely-fast chemistry. "
   ]
  },
  {
   "cell_type": "markdown",
   "id": "0e3cdc0c-2ecb-431c-a7ff-c1dfd1c0a98c",
   "metadata": {},
   "source": [
    "## 2.3.1 preparation"
   ]
  },
  {
   "cell_type": "code",
   "execution_count": null,
   "id": "7e71d706-8d19-44f1-8a8a-29b0e4469890",
   "metadata": {},
   "outputs": [],
   "source": [
    "import os\n",
    "import importlib\n",
    "\n",
    "import numpy as np\n",
    "import matplotlib.pyplot as plt\n",
    "\n",
    "import cantera as ct\n",
    "\n",
    "\n",
    "class FlameExtinguished(Exception):\n",
    "    pass\n",
    "\n",
    "\n",
    "hdf_output = importlib.util.find_spec('h5py') is not None\n",
    "\n",
    "if not hdf_output:\n",
    "    # Create directory for output data files\n",
    "    data_directory = 'diffusion_flame_batch_data'\n",
    "    if not os.path.exists(data_directory):\n",
    "        os.makedirs(data_directory)\n",
    "    fig_name = os.path.join(data_directory, 'figure_{0}.png')\n",
    "else:\n",
    "    fig_name = 'diffusion_flame_batch_{0}.png'"
   ]
  },
  {
   "cell_type": "markdown",
   "id": "e52a23b4-e427-453d-bf26-b849cf6a5fa2",
   "metadata": {},
   "source": [
    "## 2.3.2 initialisation and solution"
   ]
  },
  {
   "cell_type": "code",
   "execution_count": null,
   "id": "6e51c3c9-9e4c-45df-87c9-c1a6f6e9f45a",
   "metadata": {},
   "outputs": [],
   "source": [
    "# Set up an initial hydrogen-oxygen counterflow flame at 1 bar and low strain\n",
    "# rate (maximum axial velocity gradient = 2414 1/s)\n",
    "\n",
    "reaction_mechanism = 'h2_konnov_2008.cti'\n",
    "gas = ct.Solution(reaction_mechanism)\n",
    "width = 18e-3  # 18mm wide\n",
    "f = ct.CounterflowDiffusionFlame(gas, width=width)\n",
    "\n",
    "# Define the operating pressure and boundary conditions\n",
    "f.P = 1.e5  # 1 bar\n",
    "f.fuel_inlet.mdot = 0.5  # kg/m^2/s\n",
    "f.fuel_inlet.X = 'H2:1'\n",
    "f.fuel_inlet.T = 300  # K\n",
    "f.oxidizer_inlet.mdot = 3.0  # kg/m^2/s\n",
    "f.oxidizer_inlet.X = 'O2:1'\n",
    "f.oxidizer_inlet.T = 300  # K\n",
    "\n",
    "# Set refinement parameters, if used\n",
    "f.set_refine_criteria(ratio=3.0, slope=0.1, curve=0.2, prune=0.03)\n",
    "\n",
    "# Define a limit for the maximum temperature below which the flame is\n",
    "# considered as extinguished and the computation is aborted\n",
    "# This increases the speed of refinement, if enabled\n",
    "temperature_limit_extinction = 900  # K\n",
    "\n",
    "# Define interupt function, to be called at each time step of solution \n",
    "def interrupt_extinction(t):\n",
    "    if np.max(f.T) < temperature_limit_extinction:\n",
    "        raise FlameExtinguished('Flame extinguished')\n",
    "    return 0.\n",
    "\n",
    "#Set a function that will be called every time eval is called. \n",
    "f.set_interrupt(interrupt_extinction)\n",
    "\n",
    "# Initialize and solve\n",
    "print('Creating the initial solution')\n",
    "f.solve(loglevel=0, auto=True)\n",
    "\n",
    "# Save to data directory\n",
    "if hdf_output:\n",
    "    # save to HDF container file if h5py is installed\n",
    "    file_name = 'diffusion_flame_batch.h5'\n",
    "    f.write_hdf(file_name, group='initial_solution', mode='w', quiet=False,\n",
    "                description=('Initial hydrogen-oxygen counterflow flame '\n",
    "                             'at 1 bar and low strain rate'))\n",
    "else:\n",
    "    file_name = 'initial_solution.xml'\n",
    "    f.save(os.path.join(data_directory, file_name), name='solution',\n",
    "           description='Cantera version ' + ct.__version__ +\n",
    "           ', reaction mechanism ' + reaction_mechanism)\n",
    "    \n"
   ]
  },
  {
   "cell_type": "code",
   "execution_count": null,
   "id": "65dfcf9b-7115-4c5b-beb6-ee6cc5eda658",
   "metadata": {},
   "outputs": [],
   "source": [
    "f.strain_rate('max')"
   ]
  },
  {
   "cell_type": "code",
   "execution_count": null,
   "id": "085e80e9-8e8f-4942-a979-d520a152a759",
   "metadata": {},
   "outputs": [],
   "source": []
  },
  {
   "cell_type": "code",
   "execution_count": null,
   "id": "7aac6f87-0751-4fd0-807b-ce3abe1339b2",
   "metadata": {},
   "outputs": [],
   "source": [
    "mix_frac = []\n",
    "for n in range(f.flame.n_points):\n",
    "    f.set_gas_state(n)\n",
    "    mix_frac.append(gas.mixture_fraction(fuel=f.fuel_inlet.Y,oxidizer=f.oxidizer_inlet.Y,basis='mass',element='Bilger'))\n",
    "\n",
    "mix_frac = np.array(mix_frac)   "
   ]
  },
  {
   "cell_type": "code",
   "execution_count": null,
   "id": "b1d38f7a-f36f-4a99-9eac-c3f83bcda3fe",
   "metadata": {},
   "outputs": [],
   "source": []
  },
  {
   "cell_type": "code",
   "execution_count": null,
   "id": "2db57d08-a560-49f6-8146-637f09a2204b",
   "metadata": {},
   "outputs": [],
   "source": []
  },
  {
   "cell_type": "markdown",
   "id": "321984be-5ec3-4874-9e3a-3edc1b3d8961",
   "metadata": {},
   "source": [
    "## 2.3.3. plot "
   ]
  },
  {
   "cell_type": "code",
   "execution_count": null,
   "id": "9d5a7c07-c87c-4e8f-877b-760520e4f4fd",
   "metadata": {},
   "outputs": [],
   "source": [
    "# Extract concentration data\n",
    "grid = f.grid\n",
    "X_H2 = f.X[1]\n",
    "X_O2 = f.X[3]\n",
    "X_H2O = f.X[4]\n",
    "X_OH = f.X[5]\n",
    "T_f = f.T\n",
    "\n",
    "hr = []\n",
    "for n in range(f.flame.n_points):\n",
    "    f.set_gas_state(n)\n",
    "    hr.append(- np.dot(gas.net_production_rates, gas.partial_molar_enthalpies))\n",
    "\n",
    "hr = np.array(hr) \n",
    "\n",
    "\n",
    "fig1 = plt.figure()\n",
    "ax1 = fig1.add_subplot(1, 1, 1)\n",
    "\n",
    "ax1.plot(grid*100, X_H2, label=r'$H_{2}$')\n",
    "ax1.plot(grid*100, X_O2, label=r'$O_{2}$')\n",
    "ax1.plot(grid*100, X_H2O, label=r'$H_{2}O$')\n",
    "ax1.plot(grid*100, X_OH, label=r'$OH$')\n",
    "ax1.plot(grid*100, mix_frac, label=r'$Z$')\n",
    "#ax1.plot(f.grid*100, hr/np.max(hr), label=r'$HRR/max(HRR)$')\n",
    "plt.grid(color='c', linestyle='--', linewidth=1)\n",
    "plt.legend(loc='best')\n",
    "plt.xlabel('Distance (cm)')\n",
    "plt.ylabel('quantity');"
   ]
  },
  {
   "cell_type": "markdown",
   "id": "01209d7f-f7cf-4eb5-bb98-55b60e8d5d6e",
   "metadata": {},
   "source": [
    "## 2.3.4. convert to mixture fraction space "
   ]
  },
  {
   "cell_type": "code",
   "execution_count": null,
   "id": "f67e73f4-0293-4322-83d5-b5ad71afa11a",
   "metadata": {},
   "outputs": [],
   "source": [
    "\n",
    "\n",
    "reaction_mechanism = 'h2_konnov_2008.cti'\n",
    "gas = ct.Solution(reaction_mechanism)\n",
    "width = 18e-3  # 18mm wide\n",
    "f = ct.CounterflowDiffusionFlame(gas, width=width)\n",
    "\n",
    "\n",
    "\n",
    "f.transport_model= 'UnityLewis'\n",
    "\n",
    "\n",
    "\n",
    "\n",
    "# Define the operating pressure and boundary conditions\n",
    "f.P = 1.e5  # 1 bar\n",
    "f.fuel_inlet.mdot = 0.5  # kg/m^2/s\n",
    "f.fuel_inlet.X = 'H2:1'\n",
    "f.fuel_inlet.T = 300  # K\n",
    "f.oxidizer_inlet.mdot = 3.0  # kg/m^2/s\n",
    "f.oxidizer_inlet.X = 'O2:1'\n",
    "f.oxidizer_inlet.T = 300  # K\n",
    "\n",
    "# Set refinement parameters, if used\n",
    "f.set_refine_criteria(ratio=3.0, slope=0.1, curve=0.2, prune=0.03)\n",
    "\n",
    "# Define a limit for the maximum temperature below which the flame is\n",
    "# considered as extinguished and the computation is aborted\n",
    "# This increases the speed of refinement, if enabled\n",
    "temperature_limit_extinction = 900  # K\n",
    "\n",
    "# Define interupt function, to be called at each time step of solution \n",
    "def interrupt_extinction(t):\n",
    "    if np.max(f.T) < temperature_limit_extinction:\n",
    "        raise FlameExtinguished('Flame extinguished')\n",
    "    return 0.\n",
    "\n",
    "#Set a function that will be called every time eval is called. \n",
    "f.set_interrupt(interrupt_extinction)\n",
    "\n",
    "# Initialize and solve\n",
    "print('Creating the initial solution')\n",
    "f.solve(loglevel=0, auto=True)\n",
    "\n",
    "# Save to data directory\n",
    "if hdf_output:\n",
    "    # save to HDF container file if h5py is installed\n",
    "    file_name = 'diffusion_flame_batch.h5'\n",
    "    f.write_hdf(file_name, group='initial_solution', mode='w', quiet=False,\n",
    "                description=('Initial hydrogen-oxygen counterflow flame '\n",
    "                             'at 1 bar and low strain rate'))\n",
    "else:\n",
    "    file_name = 'initial_solution.xml'\n",
    "    f.save(os.path.join(data_directory, file_name), name='solution',\n",
    "           description='Cantera version ' + ct.__version__ +\n",
    "           ', reaction mechanism ' + reaction_mechanism)\n"
   ]
  },
  {
   "cell_type": "code",
   "execution_count": null,
   "id": "244799ab-61ba-45c3-885b-bed6168fec2c",
   "metadata": {},
   "outputs": [],
   "source": [
    "mix_frac_Le = []\n",
    "for n in range(f.flame.n_points):\n",
    "    f.set_gas_state(n)\n",
    "    mix_frac_Le.append(gas.mixture_fraction(fuel=f.fuel_inlet.Y,oxidizer=f.oxidizer_inlet.Y,basis='mass',element='Bilger'))\n",
    "\n",
    "mix_frac_Le = np.array(mix_frac_Le)   \n",
    "\n",
    "\n",
    "fig1 = plt.figure()\n",
    "ax1 = fig1.add_subplot(1, 1, 1)\n",
    "\n",
    "ax1.plot(f.grid*100, mix_frac, label=r'$Z$')\n",
    "ax1.plot(f.grid*100, mix_frac_Le, label=r'$Z_{Le1}$')\n",
    "#ax1.plot(f.grid*100, hr/np.max(hr), label=r'$HRR/max(HRR)$')\n",
    "plt.grid(color='c', linestyle='--', linewidth=1)\n",
    "\n",
    "plt.legend(loc='best')\n",
    "plt.xlabel('Distance (cm)')\n",
    "plt.ylabel('quantity');\n"
   ]
  },
  {
   "cell_type": "code",
   "execution_count": null,
   "id": "c5fe2f29-d9ed-4f84-9a00-fab763818c4e",
   "metadata": {},
   "outputs": [],
   "source": [
    "aux_gas = ct.Solution(reaction_mechanism)\n",
    "\n",
    "aux_gas.set_equivalence_ratio(1, f.fuel_inlet.X , f.oxidizer_inlet.X)\n",
    "\n",
    "Z_st = aux_gas.mixture_fraction(fuel=f.fuel_inlet.Y,oxidizer=f.oxidizer_inlet.Y,basis='mass',element='Bilger')\n",
    "\n",
    "print(Z_st)"
   ]
  },
  {
   "cell_type": "code",
   "execution_count": null,
   "id": "e54fe56a-a99a-4e20-a5b1-a83333950a5d",
   "metadata": {},
   "outputs": [],
   "source": [
    "# Extract concentration data\n",
    "grid_Le = f.grid\n",
    "X_H2_Le = f.X[1]\n",
    "X_O2_Le = f.X[3]\n",
    "X_H2O_Le = f.X[4]\n",
    "X_OH_Le = f.X[5]\n",
    "T_f_Le = f.T\n",
    "\n",
    "fig1 = plt.figure()\n",
    "ax1 = fig1.add_subplot(1, 1, 1)\n",
    "\n",
    "ax1.plot(mix_frac_Le, X_H2_Le, label=r'$H_{2}$')\n",
    "ax1.plot(mix_frac_Le, X_O2_Le, label=r'$O_{2}$')\n",
    "ax1.plot(mix_frac_Le, X_H2O_Le, label=r'$H_{2}O$')\n",
    "ax1.plot(mix_frac_Le, X_OH_Le, label=r'$OH$')\n",
    "ax1.plot(mix_frac_Le, T_f_Le/np.max(T_f_Le), label=r'$T/T_{max}$')\n",
    "#ax1.plot(f.grid*100, hr/np.max(hr), label=r'$HRR/max(HRR)$')\n",
    "ax1.vlines(x=Z_st, ymin=0, ymax = 1, linewidth=2, color='k',linestyle = '--')\n",
    "plt.grid(color='c', linestyle='--', linewidth=1)\n",
    "\n",
    "plt.legend(loc='best')\n",
    "plt.xlabel('mixture fraction')\n",
    "plt.ylabel('quantity');"
   ]
  },
  {
   "cell_type": "code",
   "execution_count": null,
   "id": "7987dc73-ccd0-4769-b60f-72f54d2e12b8",
   "metadata": {},
   "outputs": [],
   "source": [
    "# grid refinement \n",
    "'''\n",
    "print(f.grid.shape)\n",
    "\n",
    "f.set_refine_criteria(ratio=2, slope=0.05, curve=0.05, prune=0.01)\n",
    "\n",
    " and solve the problem again\n",
    "f.solve(loglevel=1, refine_grid='refine')\n",
    "\n",
    "grid_Le_ref = f.grid\n",
    "\n",
    "mix_frac_Le_ref = []\n",
    "for n in range(f.flame.n_points):\n",
    "    f.set_gas_state(n)\n",
    "    mix_frac_Le_ref.append(gas.mixture_fraction(fuel=f.fuel_inlet.Y,oxidizer=f.oxidizer_inlet.Y,basis='mass',element='Bilger'))\n",
    "\n",
    "mix_frac_Le_ref = np.array(mix_frac_Le_ref)   \n",
    "\n",
    "\n",
    "fig1 = plt.figure()\n",
    "ax1 = fig1.add_subplot(1, 1, 1)\n",
    "\n",
    "ax1.plot(grid*100, mix_frac, label=r'$Z$')\n",
    "ax1.plot(grid_Le*100, mix_frac_Le, label=r'$Z_{Le1}$')\n",
    "ax1.plot(grid_Le_ref*100, mix_frac_Le_ref, label=r'$Z_{Le1,ref}$')\n",
    "#ax1.plot(f.grid*100, hr/np.max(hr), label=r'$HRR/max(HRR)$')\n",
    "plt.grid(color='c', linestyle='--', linewidth=1)\n",
    "\n",
    "plt.legend(loc='best')\n",
    "plt.xlabel('Distance (cm)')\n",
    "plt.ylabel('quantity');\n",
    "\n",
    "\n",
    "# Extract concentration data\n",
    "grid_Le_ref = f.grid\n",
    "X_H2_Le_ref = f.X[1]\n",
    "X_O2_Le_ref = f.X[3]\n",
    "X_H2O_Le_ref = f.X[4]\n",
    "X_OH_Le_ref = f.X[5]\n",
    "T_f_Le_ref = f.T\n",
    "\n",
    "fig = plt.figure(figsize=(40/2.54,30/3.54))\n",
    "ax1 = fig.add_subplot(1, 2, 1)\n",
    "\n",
    "ax1.plot(mix_frac_Le_ref, X_H2_Le_ref, label=r'$H_{2}$')\n",
    "ax1.plot(mix_frac_Le_ref, X_O2_Le_ref, label=r'$O_{2}$')\n",
    "ax1.plot(mix_frac_Le_ref, X_H2O_Le_ref, label=r'$H_{2}O$')\n",
    "ax1.plot(mix_frac_Le_ref, X_OH_Le_ref, label=r'$OH$')\n",
    "ax1.plot(mix_frac_Le_ref, T_f_Le_ref/np.max(T_f_Le_ref), label=r'$T/T_{max}$')\n",
    "#ax1.plot(f.grid*100, hr/np.max(hr), label=r'$HRR/max(HRR)$')\n",
    "ax1.vlines(x=Z_st, ymin=0, ymax = 1, linewidth=2, color='k',linestyle = '--')\n",
    "plt.grid(color='c', linestyle='--', linewidth=1)\n",
    "plt.legend(loc='best')\n",
    "plt.xlabel('mixture fraction')\n",
    "plt.ylabel('quantity');\n",
    "\n",
    "ax2 = fig.add_subplot(1, 2, 2)\n",
    "\n",
    "ax2.plot(mix_frac_Le, X_H2_Le, '-o', label=r'$H_{2}$')\n",
    "ax2.plot(mix_frac_Le, X_O2_Le, label=r'$O_{2}$')\n",
    "ax2.plot(mix_frac_Le, X_H2O_Le, label=r'$H_{2}O$')\n",
    "ax2.plot(mix_frac_Le, X_OH_Le, label=r'$OH$')\n",
    "ax2.plot(mix_frac_Le, T_f_Le/np.max(T_f_Le), label=r'$T/T_{max}$')\n",
    "#ax1.plot(f.grid*100, hr/np.max(hr), label=r'$HRR/max(HRR)$')\n",
    "ax2.vlines(x=Z_st, ymin=0, ymax = 1, linewidth=2, color='k',linestyle = '--')\n",
    "plt.grid(color='c', linestyle='--', linewidth=1)\n",
    "\n",
    "plt.legend(loc='best')\n",
    "plt.xlabel('mixture fraction')\n",
    "plt.ylabel('quantity');\n",
    "'''"
   ]
  },
  {
   "cell_type": "code",
   "execution_count": null,
   "id": "0595508c-4083-4a81-bab2-a9958bea9fbc",
   "metadata": {},
   "outputs": [],
   "source": [
    "# 2.3.5 parametric study on strain rate\n",
    "\n",
    "'''\n",
    "# Compute counterflow diffusion flames at increasing strain rates at 1 bar\n",
    "# The strain rate is assumed to increase by 25% in each step until the flame is\n",
    "# extinguished\n",
    "strain_factor = 1.25\n",
    "\n",
    "# Exponents for the initial solution variation with changes in strain rate\n",
    "# Taken from Fiala and Sattelmayer (2014)\n",
    "exp_d_a = - 1. / 2.\n",
    "exp_u_a = 1. / 2.\n",
    "exp_V_a = 1.\n",
    "exp_lam_a = 2.\n",
    "exp_mdot_a = 1. / 2.\n",
    "\n",
    "# Restore initial solution\n",
    "if hdf_output:\n",
    "    f.read_hdf(file_name, group='initial_solution')\n",
    "else:\n",
    "    file_name = 'initial_solution.xml'\n",
    "    f.restore(filename=os.path.join(data_directory, file_name), name='solution', loglevel=0)\n",
    "\n",
    "# Counter to identify the loop\n",
    "n = 0\n",
    "# Do the strain rate loop\n",
    "while np.max(f.T) > temperature_limit_extinction:\n",
    "    n += 1\n",
    "    print('strain rate iteration', n)\n",
    "    # Create an initial guess based on the previous solution\n",
    "    # Update grid\n",
    "    f.flame.grid *= strain_factor ** exp_d_a\n",
    "    normalized_grid = f.grid / (f.grid[-1] - f.grid[0])\n",
    "    # Update mass fluxes\n",
    "    f.fuel_inlet.mdot *= strain_factor ** exp_mdot_a\n",
    "    f.oxidizer_inlet.mdot *= strain_factor ** exp_mdot_a\n",
    "    # Update velocities\n",
    "    f.set_profile('velocity', normalized_grid,\n",
    "                  f.velocity * strain_factor ** exp_u_a)\n",
    "    f.set_profile('spread_rate', normalized_grid,\n",
    "                  f.spread_rate * strain_factor ** exp_V_a)\n",
    "    # Update pressure curvature\n",
    "    f.set_profile('lambda', normalized_grid, f.L * strain_factor ** exp_lam_a)\n",
    "    try:\n",
    "        # Try solving the flame\n",
    "        f.solve(loglevel=0)\n",
    "        if hdf_output:\n",
    "            group = 'strain_loop/{:02d}'.format(n)\n",
    "            f.write_hdf(file_name, group=group, quiet=False,\n",
    "                        description='strain rate iteration {}'.format(n))\n",
    "        else:\n",
    "            file_name = 'strain_loop_' + format(n, '02d') + '.xml'\n",
    "            f.save(os.path.join(data_directory, file_name), name='solution', loglevel=1,\n",
    "                   description='Cantera version ' + ct.__version__ +\n",
    "                   ', reaction mechanism ' + reaction_mechanism)\n",
    "    except FlameExtinguished:\n",
    "        print('Flame extinguished')\n",
    "        break\n",
    "    except ct.CanteraError as e:\n",
    "        print('Error occurred while solving:', e)\n",
    "        break\n",
    "\n",
    "\n",
    "# plot      \n",
    "fig3 = plt.figure()\n",
    "fig4 = plt.figure()\n",
    "ax3 = fig3.add_subplot(1, 1, 1)\n",
    "ax4 = fig4.add_subplot(1, 1, 1)\n",
    "n_selected = range(1, n, 5)\n",
    "for n in n_selected:\n",
    "    if hdf_output:\n",
    "        group = 'strain_loop/{0:02d}'.format(n)\n",
    "        f.read_hdf(file_name, group=group)\n",
    "    else:\n",
    "        file_name = 'strain_loop_{0:02d}.xml'.format(n)\n",
    "        f.restore(filename=os.path.join(data_directory, file_name),\n",
    "                  name='solution', loglevel=0)\n",
    "    a_max = f.strain_rate('max')  # the maximum axial strain rate\n",
    "\n",
    "    # Plot the temperature profiles for the strain rate loop (selected)\n",
    "    ax3.plot(f.grid / f.grid[-1], f.T, label='{0:.2e} 1/s'.format(a_max))\n",
    "\n",
    "    # Plot the axial velocity profiles (normalized by the fuel inlet velocity)\n",
    "    # for the strain rate loop (selected)\n",
    "    ax4.plot(f.grid / f.grid[-1], f.velocity / f.velocity[0],\n",
    "             label=format(a_max, '.2e') + ' 1/s')\n",
    "\n",
    "ax3.legend(loc=0)\n",
    "ax3.set_xlabel(r'$x/x_{max}$')\n",
    "ax3.set_ylabel(r'$T$ [K]')\n",
    "fig3.savefig(fig_name.format('T_a'))\n",
    "\n",
    "ax4.legend(loc=0)\n",
    "ax4.set_xlabel(r'$x/x_{max}$')\n",
    "ax4.set_ylabel(r'$u/u_f$')\n",
    "fig4.savefig(fig_name.format('u_a'))   \n",
    "'''"
   ]
  }
 ],
 "metadata": {
  "kernelspec": {
   "display_name": "ct-fcci2021-2",
   "language": "python",
   "name": "ct-fcci2021-2"
  },
  "language_info": {
   "codemirror_mode": {
    "name": "ipython",
    "version": 3
   },
   "file_extension": ".py",
   "mimetype": "text/x-python",
   "name": "python",
   "nbconvert_exporter": "python",
   "pygments_lexer": "ipython3",
   "version": "3.7.11"
  }
 },
 "nbformat": 4,
 "nbformat_minor": 5
}
